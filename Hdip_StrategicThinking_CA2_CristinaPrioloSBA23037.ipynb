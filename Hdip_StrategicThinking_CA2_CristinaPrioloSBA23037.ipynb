{
 "cells": [
  {
   "cell_type": "code",
   "execution_count": 1,
   "id": "14f1f1ff",
   "metadata": {},
   "outputs": [],
   "source": [
    "import pandas as pd\n",
    "%matplotlib inline\n",
    "import numpy as np\n",
    "import matplotlib.pyplot as plt\n",
    "import seaborn as sns\n",
    "sns.set()"
   ]
  },
  {
   "cell_type": "code",
   "execution_count": 2,
   "id": "a6bed737",
   "metadata": {},
   "outputs": [],
   "source": [
    "dataset= pd.read_csv(\"per-capita-plastic-waste-vs-gdp-per-capita.csv\")"
   ]
  },
  {
   "cell_type": "code",
   "execution_count": 3,
   "id": "47b950f9",
   "metadata": {},
   "outputs": [
    {
     "name": "stdout",
     "output_type": "stream",
     "text": [
      "The data set has 48168 rows and 7 columns\n"
     ]
    },
    {
     "data": {
      "text/html": [
       "<div>\n",
       "<style scoped>\n",
       "    .dataframe tbody tr th:only-of-type {\n",
       "        vertical-align: middle;\n",
       "    }\n",
       "\n",
       "    .dataframe tbody tr th {\n",
       "        vertical-align: top;\n",
       "    }\n",
       "\n",
       "    .dataframe thead th {\n",
       "        text-align: right;\n",
       "    }\n",
       "</style>\n",
       "<table border=\"1\" class=\"dataframe\">\n",
       "  <thead>\n",
       "    <tr style=\"text-align: right;\">\n",
       "      <th></th>\n",
       "      <th>Year</th>\n",
       "      <th>Per capita plastic waste (kg/person/day)</th>\n",
       "      <th>GDP per capita, PPP (constant 2011 international $)</th>\n",
       "      <th>Total population (Gapminder, HYDE &amp; UN)</th>\n",
       "    </tr>\n",
       "  </thead>\n",
       "  <tbody>\n",
       "    <tr>\n",
       "      <th>count</th>\n",
       "      <td>48168.000000</td>\n",
       "      <td>186.000000</td>\n",
       "      <td>6407.000000</td>\n",
       "      <td>4.688300e+04</td>\n",
       "    </tr>\n",
       "    <tr>\n",
       "      <th>mean</th>\n",
       "      <td>1903.147442</td>\n",
       "      <td>0.179812</td>\n",
       "      <td>14926.095591</td>\n",
       "      <td>2.982790e+07</td>\n",
       "    </tr>\n",
       "    <tr>\n",
       "      <th>std</th>\n",
       "      <td>315.716839</td>\n",
       "      <td>0.123006</td>\n",
       "      <td>17739.754531</td>\n",
       "      <td>2.530860e+08</td>\n",
       "    </tr>\n",
       "    <tr>\n",
       "      <th>min</th>\n",
       "      <td>-10000.000000</td>\n",
       "      <td>0.010000</td>\n",
       "      <td>247.436540</td>\n",
       "      <td>9.050000e+02</td>\n",
       "    </tr>\n",
       "    <tr>\n",
       "      <th>25%</th>\n",
       "      <td>1859.000000</td>\n",
       "      <td>0.103000</td>\n",
       "      <td>3021.071807</td>\n",
       "      <td>2.017335e+05</td>\n",
       "    </tr>\n",
       "    <tr>\n",
       "      <th>50%</th>\n",
       "      <td>1920.000000</td>\n",
       "      <td>0.144000</td>\n",
       "      <td>8447.264179</td>\n",
       "      <td>1.542937e+06</td>\n",
       "    </tr>\n",
       "    <tr>\n",
       "      <th>75%</th>\n",
       "      <td>1975.000000</td>\n",
       "      <td>0.252000</td>\n",
       "      <td>19607.537075</td>\n",
       "      <td>5.886795e+06</td>\n",
       "    </tr>\n",
       "    <tr>\n",
       "      <th>max</th>\n",
       "      <td>2019.000000</td>\n",
       "      <td>0.686000</td>\n",
       "      <td>135318.754421</td>\n",
       "      <td>7.713468e+09</td>\n",
       "    </tr>\n",
       "  </tbody>\n",
       "</table>\n",
       "</div>"
      ],
      "text/plain": [
       "               Year  Per capita plastic waste (kg/person/day)  \\\n",
       "count  48168.000000                                186.000000   \n",
       "mean    1903.147442                                  0.179812   \n",
       "std      315.716839                                  0.123006   \n",
       "min   -10000.000000                                  0.010000   \n",
       "25%     1859.000000                                  0.103000   \n",
       "50%     1920.000000                                  0.144000   \n",
       "75%     1975.000000                                  0.252000   \n",
       "max     2019.000000                                  0.686000   \n",
       "\n",
       "       GDP per capita, PPP (constant 2011 international $)  \\\n",
       "count                                        6407.000000     \n",
       "mean                                        14926.095591     \n",
       "std                                         17739.754531     \n",
       "min                                           247.436540     \n",
       "25%                                          3021.071807     \n",
       "50%                                          8447.264179     \n",
       "75%                                         19607.537075     \n",
       "max                                        135318.754421     \n",
       "\n",
       "       Total population (Gapminder, HYDE & UN)  \n",
       "count                             4.688300e+04  \n",
       "mean                              2.982790e+07  \n",
       "std                               2.530860e+08  \n",
       "min                               9.050000e+02  \n",
       "25%                               2.017335e+05  \n",
       "50%                               1.542937e+06  \n",
       "75%                               5.886795e+06  \n",
       "max                               7.713468e+09  "
      ]
     },
     "metadata": {},
     "output_type": "display_data"
    },
    {
     "data": {
      "text/html": [
       "<div>\n",
       "<style scoped>\n",
       "    .dataframe tbody tr th:only-of-type {\n",
       "        vertical-align: middle;\n",
       "    }\n",
       "\n",
       "    .dataframe tbody tr th {\n",
       "        vertical-align: top;\n",
       "    }\n",
       "\n",
       "    .dataframe thead th {\n",
       "        text-align: right;\n",
       "    }\n",
       "</style>\n",
       "<table border=\"1\" class=\"dataframe\">\n",
       "  <thead>\n",
       "    <tr style=\"text-align: right;\">\n",
       "      <th></th>\n",
       "      <th>Entity</th>\n",
       "      <th>Code</th>\n",
       "      <th>Year</th>\n",
       "      <th>Per capita plastic waste (kg/person/day)</th>\n",
       "      <th>GDP per capita, PPP (constant 2011 international $)</th>\n",
       "      <th>Total population (Gapminder, HYDE &amp; UN)</th>\n",
       "      <th>Continent</th>\n",
       "    </tr>\n",
       "  </thead>\n",
       "  <tbody>\n",
       "    <tr>\n",
       "      <th>0</th>\n",
       "      <td>Abkhazia</td>\n",
       "      <td>OWID_ABK</td>\n",
       "      <td>2015</td>\n",
       "      <td>NaN</td>\n",
       "      <td>NaN</td>\n",
       "      <td>NaN</td>\n",
       "      <td>Asia</td>\n",
       "    </tr>\n",
       "    <tr>\n",
       "      <th>1</th>\n",
       "      <td>Afghanistan</td>\n",
       "      <td>AFG</td>\n",
       "      <td>2002</td>\n",
       "      <td>NaN</td>\n",
       "      <td>1063.635574</td>\n",
       "      <td>22601000.0</td>\n",
       "      <td>NaN</td>\n",
       "    </tr>\n",
       "    <tr>\n",
       "      <th>2</th>\n",
       "      <td>Afghanistan</td>\n",
       "      <td>AFG</td>\n",
       "      <td>2003</td>\n",
       "      <td>NaN</td>\n",
       "      <td>1099.194507</td>\n",
       "      <td>23681000.0</td>\n",
       "      <td>NaN</td>\n",
       "    </tr>\n",
       "    <tr>\n",
       "      <th>3</th>\n",
       "      <td>Afghanistan</td>\n",
       "      <td>AFG</td>\n",
       "      <td>2004</td>\n",
       "      <td>NaN</td>\n",
       "      <td>1062.249360</td>\n",
       "      <td>24727000.0</td>\n",
       "      <td>NaN</td>\n",
       "    </tr>\n",
       "    <tr>\n",
       "      <th>4</th>\n",
       "      <td>Afghanistan</td>\n",
       "      <td>AFG</td>\n",
       "      <td>2005</td>\n",
       "      <td>NaN</td>\n",
       "      <td>1136.123214</td>\n",
       "      <td>25654000.0</td>\n",
       "      <td>NaN</td>\n",
       "    </tr>\n",
       "  </tbody>\n",
       "</table>\n",
       "</div>"
      ],
      "text/plain": [
       "        Entity      Code  Year  Per capita plastic waste (kg/person/day)  \\\n",
       "0     Abkhazia  OWID_ABK  2015                                       NaN   \n",
       "1  Afghanistan       AFG  2002                                       NaN   \n",
       "2  Afghanistan       AFG  2003                                       NaN   \n",
       "3  Afghanistan       AFG  2004                                       NaN   \n",
       "4  Afghanistan       AFG  2005                                       NaN   \n",
       "\n",
       "   GDP per capita, PPP (constant 2011 international $)  \\\n",
       "0                                                NaN     \n",
       "1                                        1063.635574     \n",
       "2                                        1099.194507     \n",
       "3                                        1062.249360     \n",
       "4                                        1136.123214     \n",
       "\n",
       "   Total population (Gapminder, HYDE & UN) Continent  \n",
       "0                                      NaN      Asia  \n",
       "1                               22601000.0       NaN  \n",
       "2                               23681000.0       NaN  \n",
       "3                               24727000.0       NaN  \n",
       "4                               25654000.0       NaN  "
      ]
     },
     "metadata": {},
     "output_type": "display_data"
    },
    {
     "data": {
      "text/plain": [
       "object     3\n",
       "float64    3\n",
       "int64      1\n",
       "Name: count, dtype: int64"
      ]
     },
     "metadata": {},
     "output_type": "display_data"
    }
   ],
   "source": [
    "print(\"The data set has {} rows and {} columns\".format(dataset.shape[0], dataset.shape[1]))\n",
    "display(dataset.describe())\n",
    "display(dataset.head())\n",
    "display(dataset.dtypes.value_counts())"
   ]
  },
  {
   "cell_type": "code",
   "execution_count": 4,
   "id": "cf03f519",
   "metadata": {},
   "outputs": [
    {
     "data": {
      "text/plain": [
       "(48168, 7)"
      ]
     },
     "execution_count": 4,
     "metadata": {},
     "output_type": "execute_result"
    }
   ],
   "source": [
    "dataset.shape"
   ]
  },
  {
   "cell_type": "code",
   "execution_count": 5,
   "id": "1cec5bf1",
   "metadata": {},
   "outputs": [
    {
     "name": "stdout",
     "output_type": "stream",
     "text": [
      "<class 'pandas.core.frame.DataFrame'>\n",
      "RangeIndex: 48168 entries, 0 to 48167\n",
      "Data columns (total 7 columns):\n",
      " #   Column                                               Non-Null Count  Dtype  \n",
      "---  ------                                               --------------  -----  \n",
      " 0   Entity                                               48168 non-null  object \n",
      " 1   Code                                                 46154 non-null  object \n",
      " 2   Year                                                 48168 non-null  int64  \n",
      " 3   Per capita plastic waste (kg/person/day)             186 non-null    float64\n",
      " 4   GDP per capita, PPP (constant 2011 international $)  6407 non-null   float64\n",
      " 5   Total population (Gapminder, HYDE & UN)              46883 non-null  float64\n",
      " 6   Continent                                            285 non-null    object \n",
      "dtypes: float64(3), int64(1), object(3)\n",
      "memory usage: 2.6+ MB\n"
     ]
    }
   ],
   "source": [
    "dataset.info()"
   ]
  },
  {
   "cell_type": "code",
   "execution_count": 6,
   "id": "37a31f48",
   "metadata": {},
   "outputs": [
    {
     "data": {
      "text/plain": [
       "Entity                                                  object\n",
       "Code                                                    object\n",
       "Year                                                     int64\n",
       "Per capita plastic waste (kg/person/day)               float64\n",
       "GDP per capita, PPP (constant 2011 international $)    float64\n",
       "Total population (Gapminder, HYDE & UN)                float64\n",
       "Continent                                               object\n",
       "dtype: object"
      ]
     },
     "execution_count": 6,
     "metadata": {},
     "output_type": "execute_result"
    }
   ],
   "source": [
    "dataset.dtypes"
   ]
  },
  {
   "cell_type": "code",
   "execution_count": null,
   "id": "53eff8f6",
   "metadata": {},
   "outputs": [],
   "source": []
  }
 ],
 "metadata": {
  "kernelspec": {
   "display_name": "Python 3 (ipykernel)",
   "language": "python",
   "name": "python3"
  },
  "language_info": {
   "codemirror_mode": {
    "name": "ipython",
    "version": 3
   },
   "file_extension": ".py",
   "mimetype": "text/x-python",
   "name": "python",
   "nbconvert_exporter": "python",
   "pygments_lexer": "ipython3",
   "version": "3.11.5"
  }
 },
 "nbformat": 4,
 "nbformat_minor": 5
}
